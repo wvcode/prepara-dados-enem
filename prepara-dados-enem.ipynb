{
 "cells": [
  {
   "cell_type": "markdown",
   "metadata": {},
   "source": [
    "# Análise dos Resultados do ENEM em tempos de Pandemia (2019 - 2022)"
   ]
  },
  {
   "cell_type": "markdown",
   "metadata": {},
   "source": [
    "## Objetivo"
   ]
  },
  {
   "cell_type": "markdown",
   "metadata": {},
   "source": [
    "O objetivo deste notebook é demonstrar como podemos utilizar o Fluxo de Trabalho de um Cientista de Dados para resolver problemas e entregar soluções orientadas a dados.\n",
    "\n",
    "O Fluxo de Trabalho é composto de 6 fases:\n",
    "1) Entender o problema\n",
    "2) Coletar os dados\n",
    "3) Transformar os dados\n",
    "4) Explorar os dados\n",
    "5) Comunicar resultados\n",
    "6) Coletar feedback"
   ]
  },
  {
   "cell_type": "markdown",
   "metadata": {},
   "source": [
    "![Ciclo de vida em Ciência de Dados](imagens/ciclo_vida_ds.png)"
   ]
  },
  {
   "cell_type": "markdown",
   "metadata": {},
   "source": [
    "Iremos pegar um problema para o qual gostaríamos de encontrar uma solução suportada por dados e percorrer cada uma das fases (1 a 4) e mostrar o que um Cientista de Dados normalmente faz em cada uma delas."
   ]
  },
  {
   "cell_type": "markdown",
   "metadata": {},
   "source": [
    "## 0 - O Problema"
   ]
  },
  {
   "cell_type": "markdown",
   "metadata": {},
   "source": [
    "Imagine a seguinte situação: você é um(a) Cientista de Dados que recebeu o seguinte questionamento: \n",
    "\n",
    "> Muito se tem falado sobre como o ensino remoto durante o tempo de pandemia deixou a desejar em termos de qualidade, principalmente devido as grandes desigualdades social, tecnológica e econômica - que já existiam mas que o ensino remoto tornou muito mais aparente  - mas como podemos apoiar essa afirmação com dados?\n",
    "\n"
   ]
  },
  {
   "cell_type": "markdown",
   "metadata": {},
   "source": [
    "## 1 - Entendendo o Problema"
   ]
  },
  {
   "cell_type": "markdown",
   "metadata": {},
   "source": [
    "Traduzindo o problema descrito acima: precisamos encontrar dados para validar a hipótese de que o modelo de educação remota utilizado durante a pandemia não foi adequado e portanto, os alunos tiveram o seu aprendizado prejudicado.\n",
    "\n",
    "Consultando na Internet, podemos encontrar várias reportagens e artigos científicos que confirmam essa afimação e muitos deles já utilizam dados. E também, este é um problema muito grande para ser atacado de maneira simplista. Então, baseado no problema, vamos formular uma hipótese e vamos encontrar os dados que nos ajudem a comprovar ou descartar essa hipótese."
   ]
  },
  {
   "cell_type": "markdown",
   "metadata": {},
   "source": [
    "### Hipótese"
   ]
  },
  {
   "cell_type": "markdown",
   "metadata": {},
   "source": [
    "> A baixa qualidade do ensino remoto que ocorreu durante a pandemia, devido a falta de preparo adequada (situação de emergência) e as desigualdades social, tecnológica e econômica já vigentes no cenário da Educação Brasileira, levou a uma piora do desempenho dos alunos em relação a anos anteriores."
   ]
  },
  {
   "cell_type": "markdown",
   "metadata": {},
   "source": [
    "Parece bom, não é? Agora, temos um problema bem claro e dimensionado para tentar responder."
   ]
  },
  {
   "cell_type": "markdown",
   "metadata": {},
   "source": [
    "## 2 - Identificando e Coletando os dados"
   ]
  },
  {
   "cell_type": "markdown",
   "metadata": {},
   "source": [
    "Agora, precisamos identificar que dados podemos utilizar e onde encontra-los.\n",
    "\n",
    "Da maneira que formulamos nossa hipótese, estamos interessados em avaliar o desempenho dos alunos e utilizar essa medida de desempenho para verificar se nos anos de pandemia, o desempenho foi menor do que nos anos anteriores. E qual seria a medida de desempenho dos alunos que poderíamos utilizar? Quem lembrou do ENEM?????\n",
    "\n",
    "Isso mesmo, o ENEM é um excelente indicador, inclusive utilizado para permitir o acesso ao ensino superior. É verdade que ele então limita nossa população de estudantes para aqueles que estejam qualificados para prestar o exame, mas ainda assim, é uma parcela significativa da população estudantil.\n",
    "\n",
    "Definido os dados de que precisamos, vamos agora descobrir de onde pega-los: o site oficial para essas informações é o site do INEP - (https://www.gov.br/inep/pt-br)[https://www.gov.br/inep/pt-br]. Ao navegarmos no site, podemos chegar até os (Microdados do ENEM)[https://www.gov.br/inep/pt-br/acesso-a-informacao/dados-abertos/microdados/enem].\n",
    "\n",
    "Ali, teremos a oportunidade de realizar o download das informações, um arquivo por ano. Iremos realizar o download dos anos de 2018 a 2022, para pegar um ano anterior ao inicio da pandemia e até o último ano da pandemia."
   ]
  },
  {
   "cell_type": "markdown",
   "metadata": {},
   "source": [
    "![Microdados do ENEM](imagens/site_inep_enem.png)"
   ]
  },
  {
   "cell_type": "markdown",
   "metadata": {},
   "source": [
    "## 3 - Preparando os Dados"
   ]
  },
  {
   "cell_type": "markdown",
   "metadata": {},
   "source": [
    "Agora que temos nossos dados, precisamos prepara-los para serem utilizados.\n",
    "\n",
    "Os arquivos de dados do ENEM que fizemos download são arquivos ZIP que contém diversos arquivos, como mostrado abaixo."
   ]
  },
  {
   "cell_type": "markdown",
   "metadata": {},
   "source": [
    "![Exemplo de arquivo de microdados](imagens/exemplo_arquivo.png)"
   ]
  },
  {
   "cell_type": "markdown",
   "metadata": {},
   "source": [
    "Como se tratam de arquivos mantidos através da Lei de Acesso a Dados, eles estão bem organizados. Em muitos casos, não temos tanta sorte.\n",
    "\n",
    "Neste caso, iremos utilizar o dicionário de dados que está na pasta DICIONÁRIO para entender a estrutura dos nossos dados, e utilizar o arquivo MICRODADOS_ENEM_<ANO>.csv como nossa fonte de dados.\n",
    "\n",
    "Arquivos com a extensão CSV são os tipos mais comuns de arquivos de dados, e representam um FORMATO TABULAR, isto é, cada aluno que prestou ENEM está em uma linha, que é composta por colunas que contém informações do desempenho deste aluno no ano. É um formato que conhecemos muito bem, pois é o mesmo formato de uma planilha Excel, mas otimizado para ser utilizado em Ciência de Dados.\n",
    "\n",
    "Para o último passo nesta fase de preparação, vamos selecionar as colunas de interesse e juntar todos os dados em um único arquivo CSV, de forma a podermos utiliza-lo de maneira simplificada no restante da nossa jornada.\n",
    "\n",
    "Toda essa informação está em um arquivo especial, chamado Jupyter Notebook, que nos permite misturar em um mesmo arquivo texto e código. A partir da próxima seção, iremos ver o código para remover as colunas indesejadas e juntar todos os arquivos."
   ]
  },
  {
   "cell_type": "markdown",
   "metadata": {},
   "source": [
    "### 3.1 Código"
   ]
  },
  {
   "cell_type": "markdown",
   "metadata": {},
   "source": [
    "#### Importando Bibliotecas"
   ]
  },
  {
   "cell_type": "code",
   "execution_count": 1,
   "metadata": {},
   "outputs": [],
   "source": [
    "import pandas as pd\n",
    "import os"
   ]
  },
  {
   "cell_type": "markdown",
   "metadata": {},
   "source": [
    "#### Variáveis de Configuração"
   ]
  },
  {
   "cell_type": "code",
   "execution_count": 2,
   "metadata": {},
   "outputs": [],
   "source": [
    "# Definindo as pastas para salvar os arquivos originais e o arquivo processado\n",
    "pasta_enem = \"dados\"\n",
    "pasta_output = \"output\"\n",
    "roda_com_erros = True  # define se rodamos mesmo as partes em que temos erros"
   ]
  },
  {
   "cell_type": "markdown",
   "metadata": {},
   "source": [
    "Baseado no arquivo do [dicionário de dados](docs/Dicionário_Microdados_Enem_2022.xlsx), fizemos a seleção dos seguintes campos:"
   ]
  },
  {
   "cell_type": "markdown",
   "metadata": {},
   "source": [
    "\n",
    "| Nome da Variável | Descrição | Tamanho  | Tipo |\n",
    "|- |- |- |- |\n",
    "| NU_ANO | Ano do Enem | 4 | Numérica |\n",
    "| TP_FAIXA_ETARIA | Faixa etária | 2 | Numérica |\n",
    "| TP_SEXO | Sexo | 1 | Alfanumérica |\n",
    "| TP_ESTADO_CIVIL | Estado Civil | 1 | Numérica |\n",
    "| TP_COR_RACA | Cor/raça | 1 | Numérica |\n",
    "| TP_NACIONALIDADE | Nacionalidade | 1 | Numérica |\n",
    "| TP_ST_CONCLUSAO | Situação de conclusão do Ensino Médio | 1 | Numérica |\n",
    "| TP_ANO_CONCLUIU | Ano de Conclusão do Ensino Médio | 1 | Numérica |\n",
    "| TP_ESCOLA | Tipo de escola do Ensino Médio | 1 | Numérica |\n",
    "| TP_ENSINO | Tipo de instituição que concluiu ou concluirá o Ensino Médio  | 1 | Numérica |\n",
    "| IN_TREINEIRO | Indica se o inscrito fez a prova com intuito de apenas treinar seus conhecimentos | 1 | Numérica |\n",
    "| CO_MUNICIPIO_ESC | Código do município da escola  | 7 | Numérica |\n",
    "| NU_NOTA_CN | Nota da prova de Ciências da Natureza | 9 | Numérica |\n",
    "| NU_NOTA_CH | Nota da prova de Ciências Humanas | 9 | Numérica |\n",
    "| NU_NOTA_LC | Nota da prova de Linguagens e Códigos | 9 | Numérica |\n",
    "| NU_NOTA_MT | Nota da prova de Matemática | 9 | Numérica |\n",
    "| TP_LINGUA | Língua Estrangeira  | 1 | Numérica |\n",
    "| TP_STATUS_REDACAO | Situação da redação do participante | 1 | Numérica |\n",
    "| NU_NOTA_COMP1 | Nota da competência 1 - Demonstrar domínio da modalidade escrita formal da Língua Portuguesa. | 9 | Numérica |\n",
    "| NU_NOTA_COMP2 | Nota da competência 2 - Compreender a proposta de redação e aplicar conceitos das várias áreas de conhecimento para desenvolver o tema, dentro dos limites estruturais do texto dissertativo-argumentativo em prosa. | 9 | Numérica |\n",
    "| NU_NOTA_COMP3 | Nota da competência 3 - Selecionar, relacionar, organizar e interpretar informações, fatos, opiniões e argumentos em defesa de um ponto de vista. | 9 | Numérica |\n",
    "| NU_NOTA_COMP4 | Nota da competência 4 - Demonstrar conhecimento dos mecanismos linguísticos necessários para a construção da argumentação. | 9 | Numérica |\n",
    "| NU_NOTA_COMP5 | Nota da competência 5 - Elaborar proposta de intervenção para o problema abordado, respeitando os direitos humanos. | 9 | Numérica |\n",
    "| NU_NOTA_REDACAO | Nota da prova de redação | 9 | Numérica |"
   ]
  },
  {
   "cell_type": "code",
   "execution_count": 3,
   "metadata": {},
   "outputs": [],
   "source": [
    "# Declaração dos campos selecionados\n",
    "campos_selecionados = [\n",
    "    \"NU_INSCRICAO\",\n",
    "    \"NU_ANO\",\n",
    "    \"TP_FAIXA_ETARIA\",\n",
    "    \"TP_SEXO\",\n",
    "    \"TP_ESTADO_CIVIL\",\n",
    "    \"TP_COR_RACA\",\n",
    "    \"TP_NACIONALIDADE\",\n",
    "    \"TP_ST_CONCLUSAO\",\n",
    "    \"TP_ANO_CONCLUIU\",\n",
    "    \"TP_ESCOLA\",\n",
    "    \"TP_ENSINO\",\n",
    "    \"IN_TREINEIRO\",\n",
    "    \"CO_MUNICIPIO_ESC\",\n",
    "    \"NU_NOTA_CN\",\n",
    "    \"NU_NOTA_CH\",\n",
    "    \"NU_NOTA_LC\",\n",
    "    \"NU_NOTA_MT\",\n",
    "    \"TP_LINGUA\",\n",
    "    \"TP_STATUS_REDACAO\",\n",
    "    \"NU_NOTA_COMP1\",\n",
    "    \"NU_NOTA_COMP2\",\n",
    "    \"NU_NOTA_COMP3\",\n",
    "    \"NU_NOTA_COMP4\",\n",
    "    \"NU_NOTA_COMP5\",\n",
    "    \"NU_NOTA_REDACAO\",\n",
    "]"
   ]
  },
  {
   "cell_type": "markdown",
   "metadata": {},
   "source": [
    "O nosso código será muito similar ao pseucódigo abaixo:\n",
    "\n",
    "```python\n",
    "para cada arquivo na pasta_enem\n",
    "  carrega o arquivo em memória\n",
    "  seleciona apenas as colunas de interesse\n",
    "  adiciona a lista\n",
    "\n",
    "realiza o merge\n",
    "salva como CSV\n",
    "```"
   ]
  },
  {
   "cell_type": "code",
   "execution_count": 4,
   "metadata": {},
   "outputs": [
    {
     "name": "stdout",
     "output_type": "stream",
     "text": [
      "MICRODADOS_ENEM_2021.csv\n",
      "MICRODADOS_ENEM_2020.csv\n",
      "MICRODADOS_ENEM_2022.csv\n",
      "MICRODADOS_ENEM_2018.csv\n",
      "MICRODADOS_ENEM_2019.csv\n"
     ]
    }
   ],
   "source": [
    "if roda_com_erros:\n",
    "  arquivos = os.listdir(pasta_enem)\n",
    "  lista_dfs = []\n",
    "\n",
    "  for arquivo in arquivos:\n",
    "    if arquivo != 'placeholder.txt':\n",
    "      print(arquivo)\n",
    "      raw_df = pd.read_csv(os.path.join(pasta_enem, arquivo), encoding=\"utf-8\", encoding_errors=\"replace\", sep=\";\")\n",
    "      \n",
    "      df = raw_df[campos_selecionados]\n",
    "      \n",
    "      lista_dfs.append(df)\n",
    "    \n",
    "  final_df = pd.concat(lista_dfs)\n",
    "  final_df.to_csv(os.path.join(pasta_output, \"lista_dfs.csv\"))"
   ]
  },
  {
   "cell_type": "markdown",
   "metadata": {},
   "source": [
    "O erro acima indica que nosso computador tem um problema em manter todos os dados na memória. Para contornar esse problema, iremos mandar todos os dados para um banco de dados, assim evitando manter tudo na memória. Vamos as modificações no código."
   ]
  }
 ],
 "metadata": {
  "kernelspec": {
   "display_name": "venv-ds",
   "language": "python",
   "name": "python3"
  },
  "language_info": {
   "codemirror_mode": {
    "name": "ipython",
    "version": 3
   },
   "file_extension": ".py",
   "mimetype": "text/x-python",
   "name": "python",
   "nbconvert_exporter": "python",
   "pygments_lexer": "ipython3",
   "version": "3.10.10"
  },
  "orig_nbformat": 4
 },
 "nbformat": 4,
 "nbformat_minor": 2
}
