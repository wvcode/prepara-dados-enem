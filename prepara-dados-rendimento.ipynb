{
 "cells": [
  {
   "cell_type": "markdown",
   "metadata": {},
   "source": [
    "# Análise dos Resultados de Rendimento do Ensino em tempos de Pandemia (2018 - 2022)"
   ]
  },
  {
   "cell_type": "markdown",
   "metadata": {},
   "source": [
    "## Objetivo"
   ]
  },
  {
   "cell_type": "markdown",
   "metadata": {},
   "source": [
    "O objetivo deste notebook é demonstrar como podemos utilizar o Fluxo de Trabalho de um Cientista de Dados para resolver problemas e entregar soluções orientadas a dados.\n",
    "\n",
    "O Fluxo de Trabalho é composto de 6 fases:\n",
    "1) Entender o problema\n",
    "2) Coletar os dados\n",
    "3) Transformar os dados\n",
    "4) Explorar os dados\n",
    "5) Comunicar resultados\n",
    "6) Coletar feedback"
   ]
  },
  {
   "cell_type": "markdown",
   "metadata": {},
   "source": [
    "![Ciclo de vida em Ciência de Dados](imagens/ciclo_vida_ds.png)"
   ]
  },
  {
   "cell_type": "markdown",
   "metadata": {},
   "source": [
    "Iremos pegar um problema para o qual gostaríamos de encontrar uma solução suportada por dados e percorrer cada uma das fases (1 a 4) e mostrar o que um Cientista de Dados normalmente faz em cada uma delas."
   ]
  },
  {
   "cell_type": "markdown",
   "metadata": {},
   "source": [
    "## 0 - O Problema"
   ]
  },
  {
   "cell_type": "markdown",
   "metadata": {},
   "source": [
    "Imagine a seguinte situação: você é um(a) Cientista de Dados que recebeu o seguinte questionamento: \n",
    "\n",
    "> Muito se tem falado sobre como o ensino remoto durante o tempo de pandemia deixou a desejar em termos de qualidade, principalmente devido as grandes desigualdades social, tecnológica e econômica - que já existiam mas que o ensino remoto tornou muito mais aparente  - mas como podemos apoiar essa afirmação com dados?\n",
    "\n"
   ]
  },
  {
   "cell_type": "markdown",
   "metadata": {},
   "source": [
    "## 1 - Entendendo o Problema"
   ]
  },
  {
   "cell_type": "markdown",
   "metadata": {},
   "source": [
    "Traduzindo o problema descrito acima: precisamos encontrar dados para validar a hipótese de que o modelo de educação remota utilizado durante a pandemia não foi adequado e portanto, os alunos tiveram o seu aprendizado prejudicado.\n",
    "\n",
    "Consultando na Internet, podemos encontrar várias reportagens e artigos científicos que confirmam essa afimação e muitos deles já utilizam dados. E também, este é um problema muito grande para ser atacado de maneira simplista. Então, baseado no problema, vamos formular uma hipótese e vamos encontrar os dados que nos ajudem a comprovar ou descartar essa hipótese."
   ]
  },
  {
   "cell_type": "markdown",
   "metadata": {},
   "source": [
    "### Hipótese"
   ]
  },
  {
   "cell_type": "markdown",
   "metadata": {},
   "source": [
    "> A baixa qualidade do ensino remoto que ocorreu durante a pandemia, devido a falta de preparo adequada (situação de emergência) e as desigualdades social, tecnológica e econômica já vigentes no cenário da Educação Brasileira, levou a uma piora do desempenho dos alunos em relação a anos anteriores."
   ]
  },
  {
   "cell_type": "markdown",
   "metadata": {},
   "source": [
    "Parece bom, não é? Agora, temos um problema bem claro e dimensionado para tentar responder."
   ]
  },
  {
   "cell_type": "markdown",
   "metadata": {},
   "source": [
    "## 2 - Identificando e Coletando os dados"
   ]
  },
  {
   "cell_type": "markdown",
   "metadata": {},
   "source": [
    "Agora, precisamos identificar que dados podemos utilizar e onde encontra-los.\n",
    "\n",
    "Da maneira que formulamos nossa hipótese, estamos interessados em avaliar o desempenho dos alunos e utilizar essa medida de desempenho para verificar se nos anos de pandemia, o desempenho foi menor do que nos anos anteriores. E qual seria a medida de desempenho dos alunos que poderíamos utilizar? Vamos descobrir em seguida.\n",
    "\n",
    "Definido os tipos de dados de que precisamos, vamos agora descobrir onde pega-los: o site oficial para essas informações é o site do INEP - (https://www.gov.br/inep/pt-br)[https://www.gov.br/inep/pt-br]. Ao navegarmos no site, podemos chegar até as (Taxas de Rendimento)[https://www.gov.br/inep/pt-br/acesso-a-informacao/dados-abertos/indicadores-educacionais/taxas-de-rendimento-escolar].\n",
    "\n",
    "Ali, teremos a oportunidade de realizar o download das informações, um arquivo por ano. Iremos realizar o download dos anos de 2018 a 2022, para pegar um ano anterior ao inicio da pandemia e até o último ano da pandemia."
   ]
  },
  {
   "cell_type": "markdown",
   "metadata": {},
   "source": [
    "![Microdados do ENEM](imagens/site_inep_rend.png)"
   ]
  },
  {
   "cell_type": "markdown",
   "metadata": {},
   "source": [
    "## 3 - Preparando os Dados"
   ]
  },
  {
   "cell_type": "markdown",
   "metadata": {},
   "source": [
    "Agora que temos nossos dados, precisamos prepara-los para serem utilizados.\n",
    "\n",
    "Os arquivos de dados das taxas de rendimento que fizemos download são arquivos ZIP que contém diversos arquivos, como mostrado abaixo."
   ]
  },
  {
   "cell_type": "markdown",
   "metadata": {},
   "source": [
    "![Exemplo de arquivo de microdados](imagens/exemplo_arquivo_rend.png)"
   ]
  },
  {
   "cell_type": "markdown",
   "metadata": {},
   "source": [
    "Como se tratam de arquivos mantidos através da Lei de Acesso a Dados, eles estão bem organizados. Em muitos casos, não temos tanta sorte.\n",
    "\n",
    "Neste caso, iremos utilizar o arquivo TX_REND_MUNICIPIOS_`<ANO>`.xlsx como nossa fonte de dados.\n",
    "\n",
    "Como são arquivos excel, iremos transforma-los em arquivos CSV, de forma que poderemos juntar todos estes arquivos em um único arquivo Excel para análise.\n"
   ]
  },
  {
   "cell_type": "markdown",
   "metadata": {},
   "source": [
    "### 3.1 Limpando os dados e Convertendo"
   ]
  },
  {
   "cell_type": "markdown",
   "metadata": {},
   "source": [
    "Para podermos utilizar os arquivos, vamos executar os seguintes passos:\n",
    "1) Abrir o arquivo Excel\n",
    "2) Remover as 8 primeiras linhas\n",
    "3) Salvar como arquivo do tipo CSV\n",
    "\n",
    "Executados esses passos para todos os arquivos que baixamos. Veja o resultado abaixo."
   ]
  },
  {
   "cell_type": "markdown",
   "metadata": {},
   "source": [
    "![Dados convertidos](imagens/dados_convertidos.png)"
   ]
  },
  {
   "cell_type": "markdown",
   "metadata": {},
   "source": [
    "### 3.2 Código"
   ]
  },
  {
   "cell_type": "markdown",
   "metadata": {},
   "source": [
    "#### Importando Bibliotecas"
   ]
  },
  {
   "cell_type": "code",
   "execution_count": 1,
   "metadata": {},
   "outputs": [],
   "source": [
    "import pandas as pd\n",
    "import os"
   ]
  },
  {
   "cell_type": "markdown",
   "metadata": {},
   "source": [
    "#### Variáveis de Configuração"
   ]
  },
  {
   "cell_type": "code",
   "execution_count": 2,
   "metadata": {},
   "outputs": [],
   "source": [
    "# Definindo as pastas para salvar os arquivos originais e o arquivo processado\n",
    "pasta_rend = \"dados-rendimento\"\n",
    "pasta_output = \"output\"\n",
    "arquivos_excluidos = [\".DS_Store\",\"placeholder.txt\"]"
   ]
  },
  {
   "cell_type": "markdown",
   "metadata": {},
   "source": [
    "O nosso código será muito similar ao pseucódigo abaixo:\n",
    "\n",
    "```python\n",
    "para cada arquivo na pasta_enem\n",
    "  carrega o arquivo em memória\n",
    "  seleciona apenas as colunas de interesse\n",
    "  adiciona a lista\n",
    "\n",
    "realiza o merge\n",
    "salva como CSV\n",
    "```"
   ]
  },
  {
   "cell_type": "code",
   "execution_count": 3,
   "metadata": {},
   "outputs": [
    {
     "name": "stdout",
     "output_type": "stream",
     "text": [
      "tx_rend_municipios_2019.csv\n",
      "Aplicando correções...\n",
      "TX_REND_MUNICIPIOS_2018.csv\n",
      "Aplicando correções...\n",
      "tx_rend_municipios_2022.csv\n",
      "Aplicando correções...\n",
      "tx_rend_municipios_2020.csv\n",
      "Aplicando correções...\n",
      "tx_rend_municipios_2021.csv\n",
      "Aplicando correções...\n",
      "Concatenando dataframes...\n",
      "Salvando o arquivo final...\n"
     ]
    }
   ],
   "source": [
    "arquivos = os.listdir(pasta_rend)\n",
    "lista_dfs = []\n",
    "\n",
    "for arquivo in arquivos:\n",
    "  if arquivo not in arquivos_excluidos:\n",
    "    print(arquivo)\n",
    "    raw_df = pd.read_csv(os.path.join(pasta_rend, arquivo), encoding=\"utf-8\", encoding_errors=\"replace\", sep=\";\")\n",
    "    print(\"Aplicando correções...\")\n",
    "    raw_df.replace([\"--\"],[0], inplace=True)\n",
    "        \n",
    "    lista_dfs.append(raw_df)\n",
    "\n",
    "print(\"Concatenando dataframes...\")\n",
    "final_df = pd.concat(lista_dfs)\n",
    "print(\"Salvando o arquivo final...\")\n",
    "final_df.to_excel(os.path.join(pasta_output, \"taxa_rendimento_full.xlsx\"))"
   ]
  },
  {
   "cell_type": "markdown",
   "metadata": {},
   "source": [
    "O erro acima indica que nosso computador tem um problema em manter todos os dados na memória. Para contornar esse problema, iremos mandar todos os dados para um banco de dados, assim evitando manter tudo na memória. Vamos as modificações no código."
   ]
  }
 ],
 "metadata": {
  "kernelspec": {
   "display_name": "venv-ds",
   "language": "python",
   "name": "python3"
  },
  "language_info": {
   "codemirror_mode": {
    "name": "ipython",
    "version": 3
   },
   "file_extension": ".py",
   "mimetype": "text/x-python",
   "name": "python",
   "nbconvert_exporter": "python",
   "pygments_lexer": "ipython3",
   "version": "3.10.10"
  },
  "orig_nbformat": 4
 },
 "nbformat": 4,
 "nbformat_minor": 2
}
